{
 "cells": [
  {
   "cell_type": "markdown",
   "metadata": {
    "id": "4M4rRNLlIS5q"
   },
   "source": [
    "# **Working With Date And Time**"
   ]
  },
  {
   "cell_type": "markdown",
   "metadata": {
    "id": "rBjgNCqZIcwW"
   },
   "source": [
    "Python has a module named datetime to work with dates and times.\n",
    "\n",
    "In this tutorial, we will cover python datetime module and how it is used to handle date, time and datetime formatted variables.\n",
    "Datetime is a common data type in data science projects."
   ]
  },
  {
   "cell_type": "code",
   "execution_count": 1,
   "metadata": {
    "id": "XCoirgu-63Kw"
   },
   "outputs": [],
   "source": [
    "import numpy as np\n",
    "import datetime"
   ]
  },
  {
   "cell_type": "markdown",
   "metadata": {
    "id": "ygGFOeBFLZH1"
   },
   "source": [
    "Let's see what is inside datetime"
   ]
  },
  {
   "cell_type": "code",
   "execution_count": 2,
   "metadata": {
    "colab": {
     "base_uri": "https://localhost:8080/"
    },
    "id": "urERGrJcLX_E",
    "outputId": "af5786cc-c3e0-4c43-a0d9-f1bcc0e7962e"
   },
   "outputs": [
    {
     "name": "stdout",
     "output_type": "stream",
     "text": [
      "['MAXYEAR', 'MINYEAR', '__builtins__', '__cached__', '__doc__', '__file__', '__loader__', '__name__', '__package__', '__spec__', 'date', 'datetime', 'datetime_CAPI', 'sys', 'time', 'timedelta', 'timezone', 'tzinfo']\n"
     ]
    }
   ],
   "source": [
    "\n",
    "print(dir(datetime))"
   ]
  },
  {
   "cell_type": "markdown",
   "metadata": {
    "id": "aepCls7NKwsw"
   },
   "source": [
    "## Print today's date"
   ]
  },
  {
   "cell_type": "code",
   "execution_count": 3,
   "metadata": {
    "colab": {
     "base_uri": "https://localhost:8080/"
    },
    "id": "k4ZVfGxEJ2wR",
    "outputId": "41276181-aab9-459e-a204-f0b3353a7dad"
   },
   "outputs": [
    {
     "name": "stdout",
     "output_type": "stream",
     "text": [
      "2022-09-06\n"
     ]
    }
   ],
   "source": [
    "date_object = datetime.date.today() #use today() for today's date\n",
    "print(date_object)"
   ]
  },
  {
   "cell_type": "markdown",
   "metadata": {
    "id": "PJYC0UfOLCSN"
   },
   "source": [
    "we can see from the above the current date being printed out for us"
   ]
  },
  {
   "cell_type": "code",
   "execution_count": 4,
   "metadata": {
    "colab": {
     "base_uri": "https://localhost:8080/"
    },
    "id": "ThDKp9EYJss3",
    "outputId": "3ee963c8-b94d-4f82-eba4-8ed31499e1a8"
   },
   "outputs": [
    {
     "data": {
      "text/plain": [
       "datetime.datetime(2022, 9, 6, 20, 31, 16, 617648)"
      ]
     },
     "execution_count": 4,
     "metadata": {},
     "output_type": "execute_result"
    }
   ],
   "source": [
    "datetime_object = datetime.datetime.now()\n",
    "datetime_object"
   ]
  },
  {
   "cell_type": "markdown",
   "metadata": {
    "id": "bQxkEe3XKBCF"
   },
   "source": [
    "Here, we have imported datetime module using import datetime statement.\n",
    "\n",
    "One of the classes defined in the datetime module is **datetime class**. We then used **now()** method to create a datetime object containing the **current local date** and **time**."
   ]
  },
  {
   "cell_type": "markdown",
   "metadata": {
    "id": "tJjuPv9dKacv"
   },
   "source": [
    "## **Extract current Day, Month and Year**"
   ]
  },
  {
   "cell_type": "code",
   "execution_count": 5,
   "metadata": {
    "colab": {
     "base_uri": "https://localhost:8080/"
    },
    "id": "KmQFTjj-KnoE",
    "outputId": "d4da7e56-d912-4d27-c87a-a97b9e867bed"
   },
   "outputs": [
    {
     "name": "stdout",
     "output_type": "stream",
     "text": [
      "Current Date is: 2022-09-06 20:31:44.324633\n",
      "Year : 2022\n",
      "Month: 9\n",
      "Day of Month : 6\n"
     ]
    }
   ],
   "source": [
    "date = datetime.datetime.now() #use now() for today's date and current time\n",
    "# Date\n",
    "print('Current Date is:',date)\n",
    "\n",
    "# year\n",
    "print('Year :',date.year)\n",
    "\n",
    "# month\n",
    "print('Month:',date.month)\n",
    "\n",
    "# day\n",
    "print('Day of Month :',date.day)"
   ]
  },
  {
   "cell_type": "markdown",
   "metadata": {
    "id": "HTGo0Ta8zOan"
   },
   "source": [
    "## Extract Current Date, Hour, Minute, Seconds and Microseconds"
   ]
  },
  {
   "cell_type": "code",
   "execution_count": 6,
   "metadata": {
    "colab": {
     "base_uri": "https://localhost:8080/"
    },
    "id": "XrlUpWizQ6jW",
    "outputId": "f5dfd1f0-6097-4e1a-d6a2-4a170c75fb58"
   },
   "outputs": [
    {
     "name": "stdout",
     "output_type": "stream",
     "text": [
      "Current Date is: 2022-09-06 20:32:47.532934\n",
      "Hour : 20\n",
      "Minute : 32\n",
      "Second : 47\n",
      "Microsecond : 532934\n"
     ]
    }
   ],
   "source": [
    "time = datetime.datetime.today()\n",
    "print('Current Date is:',time)\n",
    "\n",
    "# hour\n",
    "print('Hour :',time.hour)\n",
    "\n",
    "# minute\n",
    "print('Minute :',time.minute)\n",
    "\n",
    "# second\n",
    "print('Second :',time.second)\n",
    "\n",
    "# microsecond\n",
    "print('Microsecond :',time.microsecond)"
   ]
  },
  {
   "cell_type": "markdown",
   "metadata": {
    "id": "c3-5hFFE1Imx"
   },
   "source": [
    "## Updating old Dates"
   ]
  },
  {
   "cell_type": "code",
   "execution_count": 7,
   "metadata": {
    "colab": {
     "base_uri": "https://localhost:8080/"
    },
    "id": "RiRYE3Uny9pe",
    "outputId": "db3ab52f-1a7d-4009-ed82-f9ab299e8458"
   },
   "outputs": [
    {
     "name": "stdout",
     "output_type": "stream",
     "text": [
      "Current Date is: 2022-09-06 20:33:44.082077\n",
      "Time : 20:33:44.082077\n",
      "New datetime : 2022-09-10 20:33:44.082077\n"
     ]
    }
   ],
   "source": [
    "date=datetime.datetime.now()\n",
    "# date\n",
    "print('Current Date is:',date)\n",
    "\n",
    "# time\n",
    "print('Time :',date.time())\n",
    "\n",
    "# new datetime\n",
    "print('New datetime :',date.replace(day=10))"
   ]
  },
  {
   "cell_type": "markdown",
   "metadata": {
    "id": "8Znew3PNFcTv"
   },
   "source": [
    "# **Datetime.timedelta**\n",
    "\n",
    "A timedelta object can be used when for instance, you want to find the difference between two datetime objects.Example, to find the difference between August 4th, 1990 and August 4th, 2021"
   ]
  },
  {
   "cell_type": "code",
   "execution_count": 8,
   "metadata": {
    "colab": {
     "base_uri": "https://localhost:8080/"
    },
    "id": "j_zj2bXrGJmb",
    "outputId": "6cb70d86-ce01-4702-dd6b-ce0d50aab1ba"
   },
   "outputs": [
    {
     "data": {
      "text/plain": [
       "datetime.timedelta(days=11323)"
      ]
     },
     "execution_count": 8,
     "metadata": {},
     "output_type": "execute_result"
    }
   ],
   "source": [
    "delta = datetime.datetime(2021, 8, 4) - datetime.datetime(1990, 8, 4)\n",
    "delta"
   ]
  },
  {
   "cell_type": "code",
   "execution_count": 9,
   "metadata": {
    "colab": {
     "base_uri": "https://localhost:8080/"
    },
    "id": "aDZj22nNHgIR",
    "outputId": "820ca640-0e3f-4523-e2b4-f34167073262"
   },
   "outputs": [
    {
     "name": "stdout",
     "output_type": "stream",
     "text": [
      "Days : 11323\n",
      "Years : 31.0\n"
     ]
    }
   ],
   "source": [
    "print('Days :',delta.days)\n",
    "\n",
    "print('Years :',np.round(delta.days/360))"
   ]
  },
  {
   "cell_type": "markdown",
   "metadata": {
    "id": "cKnRhg40MYff"
   },
   "source": [
    "## Time duration in seconds"
   ]
  },
  {
   "cell_type": "code",
   "execution_count": 10,
   "metadata": {
    "colab": {
     "base_uri": "https://localhost:8080/"
    },
    "id": "wkVExPjBKRDP",
    "outputId": "e734d185-f2f4-4a94-d61c-291867db7f14",
    "scrolled": true
   },
   "outputs": [
    {
     "name": "stdout",
     "output_type": "stream",
     "text": [
      "total seconds = 612015.61341\n"
     ]
    }
   ],
   "source": [
    "t = datetime.timedelta(days = 7, hours = 2, seconds = 15, microseconds = 613410)\n",
    "print(\"total seconds =\", t.total_seconds())"
   ]
  },
  {
   "cell_type": "markdown",
   "metadata": {
    "id": "cKnRhg40MYff"
   },
   "source": [
    "## Time duration in days"
   ]
  },
  {
   "cell_type": "code",
   "execution_count": 17,
   "metadata": {
    "colab": {
     "base_uri": "https://localhost:8080/"
    },
    "id": "wkVExPjBKRDP",
    "outputId": "e734d185-f2f4-4a94-d61c-291867db7f14"
   },
   "outputs": [
    {
     "name": "stdout",
     "output_type": "stream",
     "text": [
      "total days = 7\n"
     ]
    }
   ],
   "source": [
    "t = datetime.timedelta(days = 7, hours = 2, seconds = 15, microseconds = 613410)\n",
    "print(\"total days =\", t.days)"
   ]
  },
  {
   "cell_type": "markdown",
   "metadata": {
    "id": "FcJ-I6U79-P3"
   },
   "source": [
    "## Check If It Is Leap Year"
   ]
  },
  {
   "cell_type": "code",
   "execution_count": 18,
   "metadata": {
    "colab": {
     "base_uri": "https://localhost:8080/"
    },
    "id": "N_DCwbfb9ZRD",
    "outputId": "a886a85f-b192-4e87-bb7a-23252524a992"
   },
   "outputs": [
    {
     "data": {
      "text/plain": [
       "True"
      ]
     },
     "execution_count": 18,
     "metadata": {},
     "output_type": "execute_result"
    }
   ],
   "source": [
    "import calendar\n",
    "calendar.isleap(2020)"
   ]
  },
  {
   "cell_type": "code",
   "execution_count": 19,
   "metadata": {
    "colab": {
     "base_uri": "https://localhost:8080/"
    },
    "id": "gmTokxrP-M2o",
    "outputId": "2a61aeb2-7b6b-4eda-a703-5f092c5c6b8a"
   },
   "outputs": [
    {
     "data": {
      "text/plain": [
       "False"
      ]
     },
     "execution_count": 19,
     "metadata": {},
     "output_type": "execute_result"
    }
   ],
   "source": [
    "calendar.isleap(2021)"
   ]
  },
  {
   "cell_type": "markdown",
   "metadata": {
    "id": "_LD_AwDe4O8g"
   },
   "source": [
    "## **Extract Weekday from DateTime**\n"
   ]
  },
  {
   "cell_type": "markdown",
   "metadata": {
    "id": "VRjDKLom466Q"
   },
   "source": [
    "Extracting Weekday is very helpful in feature engineering, for instance the your target variable can be dependent on the day of the week, like sales of a product are generally higher on a weekend.\n",
    "\n",
    "The **weekday()** method returns an integer value for the day of the week, where Monday is 0 and Sunday is 6. We can also use the **isoweekday()** to return the weekday value between 1 and 7, just like in real-world scenario."
   ]
  },
  {
   "cell_type": "code",
   "execution_count": 21,
   "metadata": {
    "colab": {
     "base_uri": "https://localhost:8080/"
    },
    "id": "kt5pM9wd1rdR",
    "outputId": "f5db4bd1-47d5-483f-92d6-dc96ff5fc69c"
   },
   "outputs": [
    {
     "name": "stdout",
     "output_type": "stream",
     "text": [
      "Today is Sunday and it is representedby weekday as: 1\n",
      "Today is Sunday and it is represented by isoweekday as: 2\n"
     ]
    }
   ],
   "source": [
    "date=datetime.datetime.now()\n",
    "# week starts from 0\n",
    "print('Today is Sunday and it is representedby weekday as:',date.weekday()) # output 2 for Wednesday\n",
    "\n",
    "# # week starts with 1\n",
    "print('Today is Sunday and it is represented by isoweekday as:',date.isoweekday()) # output 3 in ISO format for Wednesday"
   ]
  },
  {
   "cell_type": "markdown",
   "metadata": {
    "id": "4wovUar66kXX"
   },
   "source": [
    "### Extract What Week is it in the Year"
   ]
  },
  {
   "cell_type": "markdown",
   "metadata": {
    "id": "NdC6mJn47Ld0"
   },
   "source": [
    "We can use the **isocalendar()** to get the week of the year.\n",
    "\n",
    "The **isocalendar()** function return a 3-tuple containing: **ISO year**, **week number**, and **weekday** for the given Timestamp object"
   ]
  },
  {
   "cell_type": "code",
   "execution_count": 23,
   "metadata": {
    "colab": {
     "base_uri": "https://localhost:8080/"
    },
    "id": "BhTf7lGx4kWl",
    "outputId": "6001080c-12e1-4c53-e589-4a774c973ecc"
   },
   "outputs": [
    {
     "name": "stdout",
     "output_type": "stream",
     "text": [
      "(2022, 36, 2)\n",
      "Week : 36\n"
     ]
    }
   ],
   "source": [
    "date=datetime.datetime.now()\n",
    "# retuns year, week number, week day\n",
    "print(date.isocalendar())\n",
    "print('Week :',date.isocalendar()[1])"
   ]
  },
  {
   "cell_type": "markdown",
   "metadata": {
    "id": "1PvT-Elw8WWF"
   },
   "source": [
    "## **Generate Calender Of The Year**"
   ]
  },
  {
   "cell_type": "code",
   "execution_count": 26,
   "metadata": {
    "colab": {
     "base_uri": "https://localhost:8080/"
    },
    "id": "zR-EMlFx7BEv",
    "outputId": "f5f46f36-cdd4-443f-af7d-c4ccdfa75957"
   },
   "outputs": [
    {
     "name": "stdout",
     "output_type": "stream",
     "text": [
      "                                  2022\n",
      "\n",
      "      January                   February                   March\n",
      "Mo Tu We Th Fr Sa Su      Mo Tu We Th Fr Sa Su      Mo Tu We Th Fr Sa Su\n",
      "                1  2          1  2  3  4  5  6          1  2  3  4  5  6\n",
      " 3  4  5  6  7  8  9       7  8  9 10 11 12 13       7  8  9 10 11 12 13\n",
      "10 11 12 13 14 15 16      14 15 16 17 18 19 20      14 15 16 17 18 19 20\n",
      "17 18 19 20 21 22 23      21 22 23 24 25 26 27      21 22 23 24 25 26 27\n",
      "24 25 26 27 28 29 30      28                        28 29 30 31\n",
      "31\n",
      "\n",
      "       April                      May                       June\n",
      "Mo Tu We Th Fr Sa Su      Mo Tu We Th Fr Sa Su      Mo Tu We Th Fr Sa Su\n",
      "             1  2  3                         1             1  2  3  4  5\n",
      " 4  5  6  7  8  9 10       2  3  4  5  6  7  8       6  7  8  9 10 11 12\n",
      "11 12 13 14 15 16 17       9 10 11 12 13 14 15      13 14 15 16 17 18 19\n",
      "18 19 20 21 22 23 24      16 17 18 19 20 21 22      20 21 22 23 24 25 26\n",
      "25 26 27 28 29 30         23 24 25 26 27 28 29      27 28 29 30\n",
      "                          30 31\n",
      "\n",
      "        July                     August                  September\n",
      "Mo Tu We Th Fr Sa Su      Mo Tu We Th Fr Sa Su      Mo Tu We Th Fr Sa Su\n",
      "             1  2  3       1  2  3  4  5  6  7                1  2  3  4\n",
      " 4  5  6  7  8  9 10       8  9 10 11 12 13 14       5  6  7  8  9 10 11\n",
      "11 12 13 14 15 16 17      15 16 17 18 19 20 21      12 13 14 15 16 17 18\n",
      "18 19 20 21 22 23 24      22 23 24 25 26 27 28      19 20 21 22 23 24 25\n",
      "25 26 27 28 29 30 31      29 30 31                  26 27 28 29 30\n",
      "\n",
      "      October                   November                  December\n",
      "Mo Tu We Th Fr Sa Su      Mo Tu We Th Fr Sa Su      Mo Tu We Th Fr Sa Su\n",
      "                1  2          1  2  3  4  5  6                1  2  3  4\n",
      " 3  4  5  6  7  8  9       7  8  9 10 11 12 13       5  6  7  8  9 10 11\n",
      "10 11 12 13 14 15 16      14 15 16 17 18 19 20      12 13 14 15 16 17 18\n",
      "17 18 19 20 21 22 23      21 22 23 24 25 26 27      19 20 21 22 23 24 25\n",
      "24 25 26 27 28 29 30      28 29 30                  26 27 28 29 30 31\n",
      "31\n",
      "\n"
     ]
    }
   ],
   "source": [
    "import calendar\n",
    "print(calendar.calendar(2022))"
   ]
  },
  {
   "cell_type": "markdown",
   "metadata": {
    "id": "Z7-aIC9Y9Go8"
   },
   "source": [
    "### Print Calender For Specific Month"
   ]
  },
  {
   "cell_type": "code",
   "execution_count": 28,
   "metadata": {
    "colab": {
     "base_uri": "https://localhost:8080/"
    },
    "id": "-mV2sZdH8uq3",
    "outputId": "c5618a3a-e573-47ba-b7f1-0d3b10a13b55"
   },
   "outputs": [
    {
     "name": "stdout",
     "output_type": "stream",
     "text": [
      "    August 2023\n",
      "Mo Tu We Th Fr Sa Su\n",
      "    1  2  3  4  5  6\n",
      " 7  8  9 10 11 12 13\n",
      "14 15 16 17 18 19 20\n",
      "21 22 23 24 25 26 27\n",
      "28 29 30 31\n",
      "\n"
     ]
    }
   ],
   "source": [
    "print(calendar.month(2023,8))"
   ]
  },
  {
   "cell_type": "markdown",
   "metadata": {
    "id": "wmfZ23gCNga0"
   },
   "source": [
    "# **Python format datetime**"
   ]
  },
  {
   "cell_type": "markdown",
   "metadata": {
    "id": "4tCqiO30BQwA"
   },
   "source": [
    "## format()\n",
    "\n",
    "Use **fomat()** to define your own date format"
   ]
  },
  {
   "cell_type": "code",
   "execution_count": 29,
   "metadata": {
    "colab": {
     "base_uri": "https://localhost:8080/",
     "height": 35
    },
    "id": "KlpG2mYV-e_x",
    "outputId": "18d335fc-a9d9-477c-8320-53ab6d601814"
   },
   "outputs": [
    {
     "data": {
      "text/plain": [
       "'2022/09/06'"
      ]
     },
     "execution_count": 29,
     "metadata": {},
     "output_type": "execute_result"
    }
   ],
   "source": [
    "datetime.date.today().__format__('%Y/%m/%d')"
   ]
  },
  {
   "cell_type": "code",
   "execution_count": 30,
   "metadata": {
    "colab": {
     "base_uri": "https://localhost:8080/",
     "height": 35
    },
    "id": "l6VCW1oAamrA",
    "outputId": "fa93451f-7fbc-487d-aa86-325893e7e8e1"
   },
   "outputs": [
    {
     "data": {
      "text/plain": [
       "'06/09/2022'"
      ]
     },
     "execution_count": 30,
     "metadata": {},
     "output_type": "execute_result"
    }
   ],
   "source": [
    "datetime.date.today().__format__('%d/%m/%Y')\n"
   ]
  },
  {
   "cell_type": "markdown",
   "metadata": {
    "id": "_nsvG8niAsfY"
   },
   "source": [
    "# **DateTime Formatting with Strptime & Strftime**"
   ]
  },
  {
   "cell_type": "markdown",
   "metadata": {
    "id": "OFNtvJh5N5X_"
   },
   "source": [
    "The way date and time is represented may be different in different places, organizations etc. It's more common to use *mm/dd/yyyy* in the **US**, whereas *dd/mm/yyyy* is more common in the **UK**.\n",
    "\n",
    "Python has **strftime()** and **strptime()** methods to handle this."
   ]
  },
  {
   "cell_type": "markdown",
   "metadata": {
    "id": "dyXAEFCmOQfg"
   },
   "source": [
    "## Python **strftime()** : Converts datetime object to string\n",
    "The method creates a formatted string from a given date, datetime or time object."
   ]
  },
  {
   "cell_type": "code",
   "execution_count": 32,
   "metadata": {
    "colab": {
     "base_uri": "https://localhost:8080/"
    },
    "id": "CXgBIMxYOMLl",
    "outputId": "c7d524b8-85aa-43c3-b454-fa3f5d5acc03"
   },
   "outputs": [
    {
     "name": "stdout",
     "output_type": "stream",
     "text": [
      "time: 22:03:23\n",
      "USA: 09/06/2022, 22:03:23\n",
      "UK: 06/09/2022, 22:03:23\n"
     ]
    }
   ],
   "source": [
    "# current date and time\n",
    "now = datetime.datetime.now()\n",
    "\n",
    "t = now.strftime(\"%H:%M:%S\")\n",
    "print(\"time:\", t)\n",
    "\n",
    "s1 = now.strftime(\"%m/%d/%Y, %H:%M:%S\") #US format\n",
    "# mm/dd/YY H:M:S format\n",
    "print(\"USA:\", s1)\n",
    "\n",
    "s2 = now.strftime(\"%d/%m/%Y, %H:%M:%S\")  #UK format\n",
    "# dd/mm/YY H:M:S format\n",
    "print(\"UK:\", s2)"
   ]
  },
  {
   "cell_type": "markdown",
   "metadata": {
    "id": "SlaMxRP0O4jh"
   },
   "source": [
    "Here, %Y, %m, %d, %H etc. are format codes. The strftime() method takes one or more format codes and returns a formatted string based on it.\n",
    "\n",
    "In the above program, t, s1 and s2 are strings.\n",
    "\n",
    "1. **%Y** - year [0001,..., 2018, 2019,..., 9999]\n",
    "2. **%m** - month [01, 02, ..., 11, 12]\n",
    "3. **%d** - day [01, 02, ..., 30, 31]\n",
    "4. **%H** - hour [00, 01, ..., 22, 23\n",
    "4. **%M** - minute [00, 01, ..., 58, 59]\n",
    "6. **%S** - second [00, 01, ..., 58, 59]"
   ]
  },
  {
   "cell_type": "markdown",
   "metadata": {
    "id": "hzykt-qwRtt_"
   },
   "source": [
    "### Extract the Year, Month, day and Time using **strftime()**"
   ]
  },
  {
   "cell_type": "code",
   "execution_count": 34,
   "metadata": {
    "colab": {
     "base_uri": "https://localhost:8080/"
    },
    "id": "Nvia1ylFRpvP",
    "outputId": "6c2a61c0-5356-42b2-db30-47be42380522"
   },
   "outputs": [
    {
     "name": "stdout",
     "output_type": "stream",
     "text": [
      "year: 2022\n",
      "month: 09\n",
      "day: 06\n",
      "time: 22:05:53\n",
      "date and time: 09/06/2022, 22:05:53\n"
     ]
    }
   ],
   "source": [
    "now = datetime.datetime.now() # current date and time\n",
    "\n",
    "year = now.strftime(\"%Y\")\n",
    "print(\"year:\", year)\n",
    "\n",
    "month = now.strftime(\"%m\")\n",
    "print(\"month:\", month)\n",
    "\n",
    "day = now.strftime(\"%d\")\n",
    "print(\"day:\", day)\n",
    "\n",
    "time = now.strftime(\"%H:%M:%S\")\n",
    "print(\"time:\", time)\n",
    "\n",
    "date_time = now.strftime(\"%m/%d/%Y, %H:%M:%S\")\n",
    "print(\"date and time:\",date_time)"
   ]
  },
  {
   "cell_type": "markdown",
   "metadata": {
    "id": "vk96N-0DSDqZ"
   },
   "source": [
    "Here, **year**, **day**, **time** and **date_time** are strings, whereas **now** is a datetime object."
   ]
  },
  {
   "cell_type": "markdown",
   "metadata": {
    "id": "IbH3o_WpSyQD"
   },
   "source": [
    "### Creating string from a timestamp"
   ]
  },
  {
   "cell_type": "code",
   "execution_count": 36,
   "metadata": {
    "colab": {
     "base_uri": "https://localhost:8080/"
    },
    "id": "yeu3ZhLiSwk7",
    "outputId": "6aa7ef22-f91f-4ea8-ca27-03d0f06cb4a6"
   },
   "outputs": [
    {
     "name": "stdout",
     "output_type": "stream",
     "text": [
      "Date time object: 1995-01-04 18:12:01\n",
      "Output 2: 01/04/1995, 18:12:01\n",
      "Output 3: 04 Jan, 1995\n",
      "Output 4: 04 January, 1995\n",
      "Output 5: 06PM\n"
     ]
    }
   ],
   "source": [
    "timestamp = 789232321\n",
    "date_time = datetime.datetime.fromtimestamp(timestamp)\n",
    "\n",
    "print(\"Date time object:\", date_time)\n",
    "\n",
    "d = date_time.strftime(\"%m/%d/%Y, %H:%M:%S\")\n",
    "print(\"Output 2:\", d)\n",
    "\n",
    "d = date_time.strftime(\"%d %b, %Y\")\n",
    "print(\"Output 3:\", d)\n",
    "\n",
    "d = date_time.strftime(\"%d %B, %Y\")\n",
    "print(\"Output 4:\", d)\n",
    "\n",
    "d = date_time.strftime(\"%I%p\")\n",
    "print(\"Output 5:\", d)"
   ]
  },
  {
   "cell_type": "markdown",
   "metadata": {
    "id": "m5DkDcEvPnLq"
   },
   "source": [
    "## Python **strptime()** : Converts string to datetime\n",
    "The strptime() method creates a datetime object from a given string (representing date and time)."
   ]
  },
  {
   "cell_type": "code",
   "execution_count": 37,
   "metadata": {
    "colab": {
     "base_uri": "https://localhost:8080/"
    },
    "id": "wcel-cxKPIzW",
    "outputId": "65ad7ff2-4273-4648-826e-a8fcf72442ea"
   },
   "outputs": [
    {
     "name": "stdout",
     "output_type": "stream",
     "text": [
      "date_string = 21 June, 2018\n",
      "date_object = 2018-06-21 00:00:00\n"
     ]
    }
   ],
   "source": [
    "date_string = \"21 June, 2018\"\n",
    "print(\"date_string =\", date_string)\n",
    "\n",
    "date_object = datetime.datetime.strptime(date_string, \"%d %B, %Y\")\n",
    "print(\"date_object =\", date_object)"
   ]
  },
  {
   "cell_type": "markdown",
   "metadata": {
    "id": "-4fGekwXQQ8y"
   },
   "source": [
    "By the way, %d, %B and %Y format codes are used for day, month(full name) and year respectively."
   ]
  },
  {
   "cell_type": "markdown",
   "metadata": {
    "id": "skr-iTnOQ4Dj"
   },
   "source": [
    "# **Handling Time Zones**"
   ]
  },
  {
   "cell_type": "markdown",
   "metadata": {
    "id": "vO88jiPYT6g1"
   },
   "source": [
    "We can display time based on specific time zone. This helps when dealing with projects that require handling of data from different time zones. \n",
    "\n",
    "We will use the ***pytZ module*** to handle time zones"
   ]
  },
  {
   "cell_type": "code",
   "execution_count": 39,
   "metadata": {
    "colab": {
     "base_uri": "https://localhost:8080/"
    },
    "id": "FLFpIoE3P8MJ",
    "outputId": "3b578741-8591-4353-ddbb-efc8bc210bb2"
   },
   "outputs": [
    {
     "name": "stdout",
     "output_type": "stream",
     "text": [
      "Local: 09/06/2022, 22:07:28\n",
      "Sydney: 09/07/2022, 05:07:28\n",
      "NY: 09/06/2022, 15:07:28\n"
     ]
    }
   ],
   "source": [
    "# !pip intsall pytz\n",
    "import pytz\n",
    "\n",
    "local = datetime.datetime.now()\n",
    "print(\"Local:\", local.strftime(\"%m/%d/%Y, %H:%M:%S\"))\n",
    "\n",
    "\n",
    "tz_Sydney = pytz.timezone('Australia/Sydney')\n",
    "datetime_Sydney = datetime.datetime.now(tz_Sydney)\n",
    "print(\"Sydney:\", datetime_Sydney.strftime(\"%m/%d/%Y, %H:%M:%S\"))\n",
    "\n",
    "tz_NY = pytz.timezone('America/New_York') \n",
    "datetime_NY = datetime.datetime.now(tz_NY)\n",
    "print(\"NY:\", datetime_NY.strftime(\"%m/%d/%Y, %H:%M:%S\"))"
   ]
  },
  {
   "cell_type": "markdown",
   "metadata": {
    "id": "I0XaX5fpYYUI"
   },
   "source": [
    "# **Get year, month, and day from a DataFrame**\n",
    "\n",
    "***dt.year***, ***dt.month*** and ***dt.day*** are the inbuilt attributes to get year, month , and day from Pandas datetime object."
   ]
  },
  {
   "cell_type": "code",
   "execution_count": 40,
   "metadata": {
    "colab": {
     "base_uri": "https://localhost:8080/",
     "height": 142
    },
    "id": "lDrDTmQQYXRa",
    "outputId": "76e4728e-f5fa-43cd-f989-25eda0591c4e"
   },
   "outputs": [
    {
     "data": {
      "text/html": [
       "<div>\n",
       "<style scoped>\n",
       "    .dataframe tbody tr th:only-of-type {\n",
       "        vertical-align: middle;\n",
       "    }\n",
       "\n",
       "    .dataframe tbody tr th {\n",
       "        vertical-align: top;\n",
       "    }\n",
       "\n",
       "    .dataframe thead th {\n",
       "        text-align: right;\n",
       "    }\n",
       "</style>\n",
       "<table border=\"1\" class=\"dataframe\">\n",
       "  <thead>\n",
       "    <tr style=\"text-align: right;\">\n",
       "      <th></th>\n",
       "      <th>name</th>\n",
       "      <th>DoB</th>\n",
       "    </tr>\n",
       "  </thead>\n",
       "  <tbody>\n",
       "    <tr>\n",
       "      <th>0</th>\n",
       "      <td>Ben</td>\n",
       "      <td>1990-08-05</td>\n",
       "    </tr>\n",
       "    <tr>\n",
       "      <th>1</th>\n",
       "      <td>Simran</td>\n",
       "      <td>1998-04-28</td>\n",
       "    </tr>\n",
       "    <tr>\n",
       "      <th>2</th>\n",
       "      <td>Sanjay</td>\n",
       "      <td>2001-12-16</td>\n",
       "    </tr>\n",
       "  </tbody>\n",
       "</table>\n",
       "</div>"
      ],
      "text/plain": [
       "     name        DoB\n",
       "0     Ben 1990-08-05\n",
       "1  Simran 1998-04-28\n",
       "2  Sanjay 2001-12-16"
      ]
     },
     "execution_count": 40,
     "metadata": {},
     "output_type": "execute_result"
    }
   ],
   "source": [
    "import pandas as pd\n",
    "\n",
    "df = pd.DataFrame({'name': ['Ben', 'Simran', 'Sanjay'],\n",
    "                 'DoB': ['08-05-1990', '04-28-1998', '12-16-2001']})\n",
    "df['DoB'] = pd.to_datetime(df['DoB'])\n",
    "df"
   ]
  },
  {
   "cell_type": "code",
   "execution_count": 42,
   "metadata": {
    "colab": {
     "base_uri": "https://localhost:8080/",
     "height": 142
    },
    "id": "scu5gTjTZn0F",
    "outputId": "32531310-4f5d-410a-cf40-39d622b253b5"
   },
   "outputs": [
    {
     "data": {
      "text/html": [
       "<div>\n",
       "<style scoped>\n",
       "    .dataframe tbody tr th:only-of-type {\n",
       "        vertical-align: middle;\n",
       "    }\n",
       "\n",
       "    .dataframe tbody tr th {\n",
       "        vertical-align: top;\n",
       "    }\n",
       "\n",
       "    .dataframe thead th {\n",
       "        text-align: right;\n",
       "    }\n",
       "</style>\n",
       "<table border=\"1\" class=\"dataframe\">\n",
       "  <thead>\n",
       "    <tr style=\"text-align: right;\">\n",
       "      <th></th>\n",
       "      <th>name</th>\n",
       "      <th>DoB</th>\n",
       "      <th>year</th>\n",
       "      <th>month</th>\n",
       "      <th>day</th>\n",
       "    </tr>\n",
       "  </thead>\n",
       "  <tbody>\n",
       "    <tr>\n",
       "      <th>0</th>\n",
       "      <td>Ben</td>\n",
       "      <td>1990-08-05</td>\n",
       "      <td>1990</td>\n",
       "      <td>8</td>\n",
       "      <td>5</td>\n",
       "    </tr>\n",
       "    <tr>\n",
       "      <th>1</th>\n",
       "      <td>Simran</td>\n",
       "      <td>1998-04-28</td>\n",
       "      <td>1998</td>\n",
       "      <td>4</td>\n",
       "      <td>28</td>\n",
       "    </tr>\n",
       "    <tr>\n",
       "      <th>2</th>\n",
       "      <td>Sanjay</td>\n",
       "      <td>2001-12-16</td>\n",
       "      <td>2001</td>\n",
       "      <td>12</td>\n",
       "      <td>16</td>\n",
       "    </tr>\n",
       "  </tbody>\n",
       "</table>\n",
       "</div>"
      ],
      "text/plain": [
       "     name        DoB  year  month  day\n",
       "0     Ben 1990-08-05  1990      8    5\n",
       "1  Simran 1998-04-28  1998      4   28\n",
       "2  Sanjay 2001-12-16  2001     12   16"
      ]
     },
     "execution_count": 42,
     "metadata": {},
     "output_type": "execute_result"
    }
   ],
   "source": [
    "df['year'] = df['DoB'].dt.year\n",
    "df['month'] = df['DoB'].dt.month\n",
    "df['day'] = df['DoB'].dt.day\n",
    "df"
   ]
  },
  {
   "cell_type": "markdown",
   "metadata": {
    "id": "TeYIFV1UXB4j"
   },
   "source": [
    "# **Assemble a datetime from multiple columns**"
   ]
  },
  {
   "cell_type": "code",
   "execution_count": 43,
   "metadata": {
    "id": "gcECGfOyXdeN"
   },
   "outputs": [],
   "source": [
    "#Let's assemble the date\n",
    "df['Date-Assembled'] = pd.to_datetime(df[['year','month','day']])"
   ]
  },
  {
   "cell_type": "code",
   "execution_count": 44,
   "metadata": {
    "colab": {
     "base_uri": "https://localhost:8080/",
     "height": 142
    },
    "id": "xyv3eBfga_1A",
    "outputId": "4d0776e8-446d-4a96-dd73-1ad9339cf275"
   },
   "outputs": [
    {
     "data": {
      "text/html": [
       "<div>\n",
       "<style scoped>\n",
       "    .dataframe tbody tr th:only-of-type {\n",
       "        vertical-align: middle;\n",
       "    }\n",
       "\n",
       "    .dataframe tbody tr th {\n",
       "        vertical-align: top;\n",
       "    }\n",
       "\n",
       "    .dataframe thead th {\n",
       "        text-align: right;\n",
       "    }\n",
       "</style>\n",
       "<table border=\"1\" class=\"dataframe\">\n",
       "  <thead>\n",
       "    <tr style=\"text-align: right;\">\n",
       "      <th></th>\n",
       "      <th>name</th>\n",
       "      <th>DoB</th>\n",
       "      <th>year</th>\n",
       "      <th>month</th>\n",
       "      <th>day</th>\n",
       "      <th>Date-Assembled</th>\n",
       "    </tr>\n",
       "  </thead>\n",
       "  <tbody>\n",
       "    <tr>\n",
       "      <th>0</th>\n",
       "      <td>Ben</td>\n",
       "      <td>1990-08-05</td>\n",
       "      <td>1990</td>\n",
       "      <td>8</td>\n",
       "      <td>5</td>\n",
       "      <td>1990-08-05</td>\n",
       "    </tr>\n",
       "    <tr>\n",
       "      <th>1</th>\n",
       "      <td>Simran</td>\n",
       "      <td>1998-04-28</td>\n",
       "      <td>1998</td>\n",
       "      <td>4</td>\n",
       "      <td>28</td>\n",
       "      <td>1998-04-28</td>\n",
       "    </tr>\n",
       "    <tr>\n",
       "      <th>2</th>\n",
       "      <td>Sanjay</td>\n",
       "      <td>2001-12-16</td>\n",
       "      <td>2001</td>\n",
       "      <td>12</td>\n",
       "      <td>16</td>\n",
       "      <td>2001-12-16</td>\n",
       "    </tr>\n",
       "  </tbody>\n",
       "</table>\n",
       "</div>"
      ],
      "text/plain": [
       "     name        DoB  year  month  day Date-Assembled\n",
       "0     Ben 1990-08-05  1990      8    5     1990-08-05\n",
       "1  Simran 1998-04-28  1998      4   28     1998-04-28\n",
       "2  Sanjay 2001-12-16  2001     12   16     2001-12-16"
      ]
     },
     "execution_count": 44,
     "metadata": {},
     "output_type": "execute_result"
    }
   ],
   "source": [
    "df "
   ]
  },
  {
   "cell_type": "markdown",
   "metadata": {
    "id": "evenhx2scKBP"
   },
   "source": [
    "# **Get the week of year, the day of week and leap year**\n",
    "\n",
    "Similarly, ***dt.week***, ***dt.dayofweek***, and ***dt.is_leap_year*** are the inbuilt attributes to get the week of year, the day of week, and leap year."
   ]
  },
  {
   "cell_type": "code",
   "execution_count": 49,
   "metadata": {
    "colab": {
     "base_uri": "https://localhost:8080/",
     "height": 196
    },
    "id": "l6CisTjpbofi",
    "outputId": "0270216f-2174-4493-c79b-df743665ab4a"
   },
   "outputs": [
    {
     "data": {
      "text/html": [
       "<div>\n",
       "<style scoped>\n",
       "    .dataframe tbody tr th:only-of-type {\n",
       "        vertical-align: middle;\n",
       "    }\n",
       "\n",
       "    .dataframe tbody tr th {\n",
       "        vertical-align: top;\n",
       "    }\n",
       "\n",
       "    .dataframe thead th {\n",
       "        text-align: right;\n",
       "    }\n",
       "</style>\n",
       "<table border=\"1\" class=\"dataframe\">\n",
       "  <thead>\n",
       "    <tr style=\"text-align: right;\">\n",
       "      <th></th>\n",
       "      <th>name</th>\n",
       "      <th>DoB</th>\n",
       "      <th>year</th>\n",
       "      <th>month</th>\n",
       "      <th>day</th>\n",
       "      <th>Date-Assembled</th>\n",
       "      <th>week_of_year</th>\n",
       "      <th>day_of_week</th>\n",
       "      <th>is_leap_year</th>\n",
       "    </tr>\n",
       "  </thead>\n",
       "  <tbody>\n",
       "    <tr>\n",
       "      <th>0</th>\n",
       "      <td>Ben</td>\n",
       "      <td>1990-08-05</td>\n",
       "      <td>1990</td>\n",
       "      <td>8</td>\n",
       "      <td>5</td>\n",
       "      <td>1990-08-05</td>\n",
       "      <td>31</td>\n",
       "      <td>6</td>\n",
       "      <td>False</td>\n",
       "    </tr>\n",
       "    <tr>\n",
       "      <th>1</th>\n",
       "      <td>Simran</td>\n",
       "      <td>1998-04-28</td>\n",
       "      <td>1998</td>\n",
       "      <td>4</td>\n",
       "      <td>28</td>\n",
       "      <td>1998-04-28</td>\n",
       "      <td>18</td>\n",
       "      <td>1</td>\n",
       "      <td>False</td>\n",
       "    </tr>\n",
       "    <tr>\n",
       "      <th>2</th>\n",
       "      <td>Sanjay</td>\n",
       "      <td>2001-12-16</td>\n",
       "      <td>2001</td>\n",
       "      <td>12</td>\n",
       "      <td>16</td>\n",
       "      <td>2001-12-16</td>\n",
       "      <td>50</td>\n",
       "      <td>6</td>\n",
       "      <td>False</td>\n",
       "    </tr>\n",
       "  </tbody>\n",
       "</table>\n",
       "</div>"
      ],
      "text/plain": [
       "     name        DoB  year  month  day Date-Assembled  week_of_year  \\\n",
       "0     Ben 1990-08-05  1990      8    5     1990-08-05            31   \n",
       "1  Simran 1998-04-28  1998      4   28     1998-04-28            18   \n",
       "2  Sanjay 2001-12-16  2001     12   16     2001-12-16            50   \n",
       "\n",
       "   day_of_week  is_leap_year  \n",
       "0            6         False  \n",
       "1            1         False  \n",
       "2            6         False  "
      ]
     },
     "execution_count": 49,
     "metadata": {},
     "output_type": "execute_result"
    }
   ],
   "source": [
    "df['week_of_year'] = df['DoB'].dt.week\n",
    "df['day_of_week'] = df['DoB'].dt.dayofweek\n",
    "df['is_leap_year'] = df['DoB'].dt.is_leap_year\n",
    "df"
   ]
  },
  {
   "cell_type": "markdown",
   "metadata": {
    "id": "2eCVrAd4dLfc"
   },
   "source": [
    "# **Map The Day Of The Weeks With Thier Proper Names**"
   ]
  },
  {
   "cell_type": "code",
   "execution_count": 50,
   "metadata": {
    "colab": {
     "base_uri": "https://localhost:8080/",
     "height": 142
    },
    "id": "e7p7Hsj5cUZb",
    "outputId": "8d5061c1-fc72-4020-ead5-edeed4e68f21"
   },
   "outputs": [
    {
     "data": {
      "text/html": [
       "<div>\n",
       "<style scoped>\n",
       "    .dataframe tbody tr th:only-of-type {\n",
       "        vertical-align: middle;\n",
       "    }\n",
       "\n",
       "    .dataframe tbody tr th {\n",
       "        vertical-align: top;\n",
       "    }\n",
       "\n",
       "    .dataframe thead th {\n",
       "        text-align: right;\n",
       "    }\n",
       "</style>\n",
       "<table border=\"1\" class=\"dataframe\">\n",
       "  <thead>\n",
       "    <tr style=\"text-align: right;\">\n",
       "      <th></th>\n",
       "      <th>name</th>\n",
       "      <th>DoB</th>\n",
       "      <th>year</th>\n",
       "      <th>month</th>\n",
       "      <th>day</th>\n",
       "      <th>Date-Assembled</th>\n",
       "      <th>week_of_year</th>\n",
       "      <th>day_of_week</th>\n",
       "      <th>is_leap_year</th>\n",
       "      <th>day_of_week_name</th>\n",
       "    </tr>\n",
       "  </thead>\n",
       "  <tbody>\n",
       "    <tr>\n",
       "      <th>0</th>\n",
       "      <td>Ben</td>\n",
       "      <td>1990-08-05</td>\n",
       "      <td>1990</td>\n",
       "      <td>8</td>\n",
       "      <td>5</td>\n",
       "      <td>1990-08-05</td>\n",
       "      <td>31</td>\n",
       "      <td>6</td>\n",
       "      <td>False</td>\n",
       "      <td>Sunday</td>\n",
       "    </tr>\n",
       "    <tr>\n",
       "      <th>1</th>\n",
       "      <td>Simran</td>\n",
       "      <td>1998-04-28</td>\n",
       "      <td>1998</td>\n",
       "      <td>4</td>\n",
       "      <td>28</td>\n",
       "      <td>1998-04-28</td>\n",
       "      <td>18</td>\n",
       "      <td>1</td>\n",
       "      <td>False</td>\n",
       "      <td>Tuesday</td>\n",
       "    </tr>\n",
       "    <tr>\n",
       "      <th>2</th>\n",
       "      <td>Sanjay</td>\n",
       "      <td>2001-12-16</td>\n",
       "      <td>2001</td>\n",
       "      <td>12</td>\n",
       "      <td>16</td>\n",
       "      <td>2001-12-16</td>\n",
       "      <td>50</td>\n",
       "      <td>6</td>\n",
       "      <td>False</td>\n",
       "      <td>Sunday</td>\n",
       "    </tr>\n",
       "  </tbody>\n",
       "</table>\n",
       "</div>"
      ],
      "text/plain": [
       "     name        DoB  year  month  day Date-Assembled  week_of_year  \\\n",
       "0     Ben 1990-08-05  1990      8    5     1990-08-05            31   \n",
       "1  Simran 1998-04-28  1998      4   28     1998-04-28            18   \n",
       "2  Sanjay 2001-12-16  2001     12   16     2001-12-16            50   \n",
       "\n",
       "   day_of_week  is_leap_year day_of_week_name  \n",
       "0            6         False           Sunday  \n",
       "1            1         False          Tuesday  \n",
       "2            6         False           Sunday  "
      ]
     },
     "execution_count": 50,
     "metadata": {},
     "output_type": "execute_result"
    }
   ],
   "source": [
    "dw_mapping={\n",
    "    0: 'Monday', \n",
    "    1: 'Tuesday', \n",
    "    2: 'Wednesday', \n",
    "    3: 'Thursday', \n",
    "    4: 'Friday',\n",
    "    5: 'Saturday', \n",
    "    6: 'Sunday'\n",
    "} \n",
    "df['day_of_week_name']=df['DoB'].dt.weekday.map(dw_mapping)\n",
    "df"
   ]
  },
  {
   "cell_type": "markdown",
   "metadata": {
    "id": "1p83HiJNdqNi"
   },
   "source": [
    "### Get the age from the date of birth"
   ]
  },
  {
   "cell_type": "code",
   "execution_count": 51,
   "metadata": {
    "colab": {
     "base_uri": "https://localhost:8080/",
     "height": 142
    },
    "id": "yYVAAZB-daGY",
    "outputId": "8f911996-47c1-43a5-ccb6-ed66f48e4712"
   },
   "outputs": [
    {
     "data": {
      "text/html": [
       "<div>\n",
       "<style scoped>\n",
       "    .dataframe tbody tr th:only-of-type {\n",
       "        vertical-align: middle;\n",
       "    }\n",
       "\n",
       "    .dataframe tbody tr th {\n",
       "        vertical-align: top;\n",
       "    }\n",
       "\n",
       "    .dataframe thead th {\n",
       "        text-align: right;\n",
       "    }\n",
       "</style>\n",
       "<table border=\"1\" class=\"dataframe\">\n",
       "  <thead>\n",
       "    <tr style=\"text-align: right;\">\n",
       "      <th></th>\n",
       "      <th>name</th>\n",
       "      <th>DoB</th>\n",
       "      <th>year</th>\n",
       "      <th>month</th>\n",
       "      <th>day</th>\n",
       "      <th>Date-Assembled</th>\n",
       "      <th>week_of_year</th>\n",
       "      <th>day_of_week</th>\n",
       "      <th>is_leap_year</th>\n",
       "      <th>day_of_week_name</th>\n",
       "      <th>age</th>\n",
       "    </tr>\n",
       "  </thead>\n",
       "  <tbody>\n",
       "    <tr>\n",
       "      <th>0</th>\n",
       "      <td>Ben</td>\n",
       "      <td>1990-08-05</td>\n",
       "      <td>1990</td>\n",
       "      <td>8</td>\n",
       "      <td>5</td>\n",
       "      <td>1990-08-05</td>\n",
       "      <td>31</td>\n",
       "      <td>6</td>\n",
       "      <td>False</td>\n",
       "      <td>Sunday</td>\n",
       "      <td>32</td>\n",
       "    </tr>\n",
       "    <tr>\n",
       "      <th>1</th>\n",
       "      <td>Simran</td>\n",
       "      <td>1998-04-28</td>\n",
       "      <td>1998</td>\n",
       "      <td>4</td>\n",
       "      <td>28</td>\n",
       "      <td>1998-04-28</td>\n",
       "      <td>18</td>\n",
       "      <td>1</td>\n",
       "      <td>False</td>\n",
       "      <td>Tuesday</td>\n",
       "      <td>24</td>\n",
       "    </tr>\n",
       "    <tr>\n",
       "      <th>2</th>\n",
       "      <td>Sanjay</td>\n",
       "      <td>2001-12-16</td>\n",
       "      <td>2001</td>\n",
       "      <td>12</td>\n",
       "      <td>16</td>\n",
       "      <td>2001-12-16</td>\n",
       "      <td>50</td>\n",
       "      <td>6</td>\n",
       "      <td>False</td>\n",
       "      <td>Sunday</td>\n",
       "      <td>21</td>\n",
       "    </tr>\n",
       "  </tbody>\n",
       "</table>\n",
       "</div>"
      ],
      "text/plain": [
       "     name        DoB  year  month  day Date-Assembled  week_of_year  \\\n",
       "0     Ben 1990-08-05  1990      8    5     1990-08-05            31   \n",
       "1  Simran 1998-04-28  1998      4   28     1998-04-28            18   \n",
       "2  Sanjay 2001-12-16  2001     12   16     2001-12-16            50   \n",
       "\n",
       "   day_of_week  is_leap_year day_of_week_name  age  \n",
       "0            6         False           Sunday   32  \n",
       "1            1         False          Tuesday   24  \n",
       "2            6         False           Sunday   21  "
      ]
     },
     "execution_count": 51,
     "metadata": {},
     "output_type": "execute_result"
    }
   ],
   "source": [
    "today = pd.to_datetime('today')\n",
    "\n",
    "df['age'] = today.year - df['DoB'].dt.year\n",
    "df"
   ]
  },
  {
   "cell_type": "markdown",
   "metadata": {
    "id": "tChCoYVXWAHl"
   },
   "source": [
    "# **Working With Dates In Pandas DataFrame**"
   ]
  },
  {
   "cell_type": "code",
   "execution_count": 66,
   "metadata": {
    "colab": {
     "base_uri": "https://localhost:8080/",
     "height": 306
    },
    "id": "zPXjny47eZ_E",
    "outputId": "302b6ddc-7069-4571-a3e0-a1b22516ff80"
   },
   "outputs": [
    {
     "data": {
      "text/html": [
       "<div>\n",
       "<style scoped>\n",
       "    .dataframe tbody tr th:only-of-type {\n",
       "        vertical-align: middle;\n",
       "    }\n",
       "\n",
       "    .dataframe tbody tr th {\n",
       "        vertical-align: top;\n",
       "    }\n",
       "\n",
       "    .dataframe thead th {\n",
       "        text-align: right;\n",
       "    }\n",
       "</style>\n",
       "<table border=\"1\" class=\"dataframe\">\n",
       "  <thead>\n",
       "    <tr style=\"text-align: right;\">\n",
       "      <th></th>\n",
       "      <th>Name</th>\n",
       "      <th>Area</th>\n",
       "      <th>Depot</th>\n",
       "      <th>Position</th>\n",
       "      <th>Hiring Date</th>\n",
       "      <th>Placement Date</th>\n",
       "      <th>Liberation Date</th>\n",
       "      <th>Exit Date</th>\n",
       "    </tr>\n",
       "  </thead>\n",
       "  <tbody>\n",
       "    <tr>\n",
       "      <th>0</th>\n",
       "      <td>Kimberli Okelly</td>\n",
       "      <td>VideoGames</td>\n",
       "      <td>Puebla de Zaragoza</td>\n",
       "      <td>Nightshift Depot Hand</td>\n",
       "      <td>2017-01-23</td>\n",
       "      <td>2017-01-27 00:00:00</td>\n",
       "      <td>2017-01-29 00:00:00</td>\n",
       "      <td>NaT</td>\n",
       "    </tr>\n",
       "    <tr>\n",
       "      <th>1</th>\n",
       "      <td>Lavern Fuhrman</td>\n",
       "      <td>Books</td>\n",
       "      <td>Monterrey</td>\n",
       "      <td>Packer</td>\n",
       "      <td>2017-01-19</td>\n",
       "      <td>2017-01-30 00:00:00</td>\n",
       "      <td>2017-02-25 00:00:00</td>\n",
       "      <td>NaT</td>\n",
       "    </tr>\n",
       "    <tr>\n",
       "      <th>2</th>\n",
       "      <td>Ghislaine Bodie</td>\n",
       "      <td>Books</td>\n",
       "      <td>Ciudad de México</td>\n",
       "      <td>General Depot Hand</td>\n",
       "      <td>2017-01-27</td>\n",
       "      <td>2017-02-04 00:00:00</td>\n",
       "      <td>Exit</td>\n",
       "      <td>2017-01-29</td>\n",
       "    </tr>\n",
       "    <tr>\n",
       "      <th>3</th>\n",
       "      <td>Dianne Mayweather</td>\n",
       "      <td>Books</td>\n",
       "      <td>Monterrey</td>\n",
       "      <td>Package Reception</td>\n",
       "      <td>2017-02-11</td>\n",
       "      <td>2017-02-21 00:00:00</td>\n",
       "      <td>2017-03-21 00:00:00</td>\n",
       "      <td>NaT</td>\n",
       "    </tr>\n",
       "    <tr>\n",
       "      <th>4</th>\n",
       "      <td>Myron Gustavson</td>\n",
       "      <td>Clothes</td>\n",
       "      <td>Ciudad de México</td>\n",
       "      <td>Package Reception</td>\n",
       "      <td>2017-03-01</td>\n",
       "      <td>2017-03-13 00:00:00</td>\n",
       "      <td>2017-04-07 00:00:00</td>\n",
       "      <td>NaT</td>\n",
       "    </tr>\n",
       "  </tbody>\n",
       "</table>\n",
       "</div>"
      ],
      "text/plain": [
       "                  Name        Area               Depot               Position  \\\n",
       "0    Kimberli Okelly    VideoGames  Puebla de Zaragoza  Nightshift Depot Hand   \n",
       "1     Lavern Fuhrman         Books           Monterrey                 Packer   \n",
       "2    Ghislaine Bodie         Books    Ciudad de México     General Depot Hand   \n",
       "3  Dianne Mayweather         Books           Monterrey      Package Reception   \n",
       "4    Myron Gustavson       Clothes    Ciudad de México      Package Reception   \n",
       "\n",
       "  Hiring Date       Placement Date      Liberation Date  Exit Date  \n",
       "0  2017-01-23  2017-01-27 00:00:00  2017-01-29 00:00:00        NaT  \n",
       "1  2017-01-19  2017-01-30 00:00:00  2017-02-25 00:00:00        NaT  \n",
       "2  2017-01-27  2017-02-04 00:00:00                 Exit 2017-01-29  \n",
       "3  2017-02-11  2017-02-21 00:00:00  2017-03-21 00:00:00        NaT  \n",
       "4  2017-03-01  2017-03-13 00:00:00  2017-04-07 00:00:00        NaT  "
      ]
     },
     "execution_count": 66,
     "metadata": {},
     "output_type": "execute_result"
    }
   ],
   "source": [
    "df = pd.read_excel('../content/anonymous.xlsx')\n",
    "df.head()"
   ]
  },
  {
   "cell_type": "markdown",
   "metadata": {
    "id": "YaaaXLmfWMtw"
   },
   "source": [
    "### Operations On Date In Pandas DataFrame"
   ]
  },
  {
   "cell_type": "code",
   "execution_count": 67,
   "metadata": {
    "colab": {
     "base_uri": "https://localhost:8080/",
     "height": 637
    },
    "id": "W-3AsjpLj255",
    "outputId": "177ea6b9-d257-4b96-f5ce-6e40bc504090"
   },
   "outputs": [
    {
     "data": {
      "text/html": [
       "<div>\n",
       "<style scoped>\n",
       "    .dataframe tbody tr th:only-of-type {\n",
       "        vertical-align: middle;\n",
       "    }\n",
       "\n",
       "    .dataframe tbody tr th {\n",
       "        vertical-align: top;\n",
       "    }\n",
       "\n",
       "    .dataframe thead th {\n",
       "        text-align: right;\n",
       "    }\n",
       "</style>\n",
       "<table border=\"1\" class=\"dataframe\">\n",
       "  <thead>\n",
       "    <tr style=\"text-align: right;\">\n",
       "      <th></th>\n",
       "      <th>Name</th>\n",
       "      <th>Area</th>\n",
       "      <th>Depot</th>\n",
       "      <th>Position</th>\n",
       "      <th>Placement Date</th>\n",
       "      <th>Liberation Date</th>\n",
       "      <th>Exit Date</th>\n",
       "    </tr>\n",
       "    <tr>\n",
       "      <th>Hiring Date</th>\n",
       "      <th></th>\n",
       "      <th></th>\n",
       "      <th></th>\n",
       "      <th></th>\n",
       "      <th></th>\n",
       "      <th></th>\n",
       "      <th></th>\n",
       "    </tr>\n",
       "  </thead>\n",
       "  <tbody>\n",
       "    <tr>\n",
       "      <th>2017-01-23</th>\n",
       "      <td>Kimberli Okelly</td>\n",
       "      <td>VideoGames</td>\n",
       "      <td>Puebla de Zaragoza</td>\n",
       "      <td>Nightshift Depot Hand</td>\n",
       "      <td>2017-01-27 00:00:00</td>\n",
       "      <td>2017-01-29 00:00:00</td>\n",
       "      <td>NaT</td>\n",
       "    </tr>\n",
       "    <tr>\n",
       "      <th>2017-01-19</th>\n",
       "      <td>Lavern Fuhrman</td>\n",
       "      <td>Books</td>\n",
       "      <td>Monterrey</td>\n",
       "      <td>Packer</td>\n",
       "      <td>2017-01-30 00:00:00</td>\n",
       "      <td>2017-02-25 00:00:00</td>\n",
       "      <td>NaT</td>\n",
       "    </tr>\n",
       "    <tr>\n",
       "      <th>2017-01-27</th>\n",
       "      <td>Ghislaine Bodie</td>\n",
       "      <td>Books</td>\n",
       "      <td>Ciudad de México</td>\n",
       "      <td>General Depot Hand</td>\n",
       "      <td>2017-02-04 00:00:00</td>\n",
       "      <td>Exit</td>\n",
       "      <td>2017-01-29</td>\n",
       "    </tr>\n",
       "    <tr>\n",
       "      <th>2017-02-11</th>\n",
       "      <td>Dianne Mayweather</td>\n",
       "      <td>Books</td>\n",
       "      <td>Monterrey</td>\n",
       "      <td>Package Reception</td>\n",
       "      <td>2017-02-21 00:00:00</td>\n",
       "      <td>2017-03-21 00:00:00</td>\n",
       "      <td>NaT</td>\n",
       "    </tr>\n",
       "    <tr>\n",
       "      <th>2017-03-01</th>\n",
       "      <td>Myron Gustavson</td>\n",
       "      <td>Clothes</td>\n",
       "      <td>Ciudad de México</td>\n",
       "      <td>Package Reception</td>\n",
       "      <td>2017-03-13 00:00:00</td>\n",
       "      <td>2017-04-07 00:00:00</td>\n",
       "      <td>NaT</td>\n",
       "    </tr>\n",
       "  </tbody>\n",
       "</table>\n",
       "</div>"
      ],
      "text/plain": [
       "                            Name        Area               Depot  \\\n",
       "Hiring Date                                                        \n",
       "2017-01-23     Kimberli Okelly    VideoGames  Puebla de Zaragoza   \n",
       "2017-01-19      Lavern Fuhrman         Books           Monterrey   \n",
       "2017-01-27     Ghislaine Bodie         Books    Ciudad de México   \n",
       "2017-02-11   Dianne Mayweather         Books           Monterrey   \n",
       "2017-03-01     Myron Gustavson       Clothes    Ciudad de México   \n",
       "\n",
       "                          Position       Placement Date      Liberation Date  \\\n",
       "Hiring Date                                                                    \n",
       "2017-01-23   Nightshift Depot Hand  2017-01-27 00:00:00  2017-01-29 00:00:00   \n",
       "2017-01-19                  Packer  2017-01-30 00:00:00  2017-02-25 00:00:00   \n",
       "2017-01-27      General Depot Hand  2017-02-04 00:00:00                 Exit   \n",
       "2017-02-11       Package Reception  2017-02-21 00:00:00  2017-03-21 00:00:00   \n",
       "2017-03-01       Package Reception  2017-03-13 00:00:00  2017-04-07 00:00:00   \n",
       "\n",
       "             Exit Date  \n",
       "Hiring Date             \n",
       "2017-01-23         NaT  \n",
       "2017-01-19         NaT  \n",
       "2017-01-27  2017-01-29  \n",
       "2017-02-11         NaT  \n",
       "2017-03-01         NaT  "
      ]
     },
     "execution_count": 67,
     "metadata": {},
     "output_type": "execute_result"
    }
   ],
   "source": [
    "#Let's set Hiring Date as an Index for easier operations\n",
    "df = df.set_index(['Hiring Date'])\n",
    "df.head()"
   ]
  },
  {
   "cell_type": "markdown",
   "metadata": {
    "id": "d3Gj1tJoV8uF"
   },
   "source": [
    "### Which Employees were hired in 2017. How many are there?"
   ]
  },
  {
   "cell_type": "code",
   "execution_count": 64,
   "metadata": {
    "colab": {
     "base_uri": "https://localhost:8080/",
     "height": 450
    },
    "id": "uzokjKgUUdSw",
    "outputId": "44e8126f-6e6b-4448-b473-7855f0c08411"
   },
   "outputs": [
    {
     "data": {
      "text/html": [
       "<div>\n",
       "<style scoped>\n",
       "    .dataframe tbody tr th:only-of-type {\n",
       "        vertical-align: middle;\n",
       "    }\n",
       "\n",
       "    .dataframe tbody tr th {\n",
       "        vertical-align: top;\n",
       "    }\n",
       "\n",
       "    .dataframe thead th {\n",
       "        text-align: right;\n",
       "    }\n",
       "</style>\n",
       "<table border=\"1\" class=\"dataframe\">\n",
       "  <thead>\n",
       "    <tr style=\"text-align: right;\">\n",
       "      <th></th>\n",
       "      <th>Name</th>\n",
       "      <th>Area</th>\n",
       "    </tr>\n",
       "    <tr>\n",
       "      <th>Hiring Date</th>\n",
       "      <th></th>\n",
       "      <th></th>\n",
       "    </tr>\n",
       "  </thead>\n",
       "  <tbody>\n",
       "    <tr>\n",
       "      <th>2017-01-23</th>\n",
       "      <td>Kimberli Okelly</td>\n",
       "      <td>VideoGames</td>\n",
       "    </tr>\n",
       "    <tr>\n",
       "      <th>2017-01-19</th>\n",
       "      <td>Lavern Fuhrman</td>\n",
       "      <td>Books</td>\n",
       "    </tr>\n",
       "    <tr>\n",
       "      <th>2017-01-27</th>\n",
       "      <td>Ghislaine Bodie</td>\n",
       "      <td>Books</td>\n",
       "    </tr>\n",
       "    <tr>\n",
       "      <th>2017-02-11</th>\n",
       "      <td>Dianne Mayweather</td>\n",
       "      <td>Books</td>\n",
       "    </tr>\n",
       "    <tr>\n",
       "      <th>2017-03-01</th>\n",
       "      <td>Myron Gustavson</td>\n",
       "      <td>Clothes</td>\n",
       "    </tr>\n",
       "  </tbody>\n",
       "</table>\n",
       "</div>"
      ],
      "text/plain": [
       "                            Name        Area\n",
       "Hiring Date                                 \n",
       "2017-01-23     Kimberli Okelly    VideoGames\n",
       "2017-01-19      Lavern Fuhrman         Books\n",
       "2017-01-27     Ghislaine Bodie         Books\n",
       "2017-02-11   Dianne Mayweather         Books\n",
       "2017-03-01     Myron Gustavson       Clothes"
      ]
     },
     "execution_count": 64,
     "metadata": {},
     "output_type": "execute_result"
    }
   ],
   "source": [
    "df.loc['2017', ['Name','Area']].head()"
   ]
  },
  {
   "cell_type": "code",
   "execution_count": 59,
   "metadata": {
    "colab": {
     "base_uri": "https://localhost:8080/"
    },
    "id": "zATYJLGcXJnS",
    "outputId": "ad35e16e-c4e9-4aee-ba2b-1330ae550aa5"
   },
   "outputs": [
    {
     "data": {
      "text/plain": [
       "(400, 1)"
      ]
     },
     "execution_count": 59,
     "metadata": {},
     "output_type": "execute_result"
    }
   ],
   "source": [
    "df.loc['2017', ['Name']].shape"
   ]
  },
  {
   "cell_type": "markdown",
   "metadata": {
    "id": "nFohaksrX2Fw"
   },
   "source": [
    "### Which employees were hired on 14th February 2017? Which Area are they? What is their Position?"
   ]
  },
  {
   "cell_type": "code",
   "execution_count": 61,
   "metadata": {
    "colab": {
     "base_uri": "https://localhost:8080/",
     "height": 173
    },
    "id": "dFdWGEayXsQU",
    "outputId": "d2723d1a-8bc0-4c7b-d642-ac9fa6335df7"
   },
   "outputs": [
    {
     "data": {
      "text/html": [
       "<div>\n",
       "<style scoped>\n",
       "    .dataframe tbody tr th:only-of-type {\n",
       "        vertical-align: middle;\n",
       "    }\n",
       "\n",
       "    .dataframe tbody tr th {\n",
       "        vertical-align: top;\n",
       "    }\n",
       "\n",
       "    .dataframe thead th {\n",
       "        text-align: right;\n",
       "    }\n",
       "</style>\n",
       "<table border=\"1\" class=\"dataframe\">\n",
       "  <thead>\n",
       "    <tr style=\"text-align: right;\">\n",
       "      <th></th>\n",
       "      <th>Name</th>\n",
       "      <th>Area</th>\n",
       "      <th>Position</th>\n",
       "    </tr>\n",
       "    <tr>\n",
       "      <th>Hiring Date</th>\n",
       "      <th></th>\n",
       "      <th></th>\n",
       "      <th></th>\n",
       "    </tr>\n",
       "  </thead>\n",
       "  <tbody>\n",
       "    <tr>\n",
       "      <th>2017-02-14</th>\n",
       "      <td>Mia Slavin</td>\n",
       "      <td>Home and Kitchen</td>\n",
       "      <td>Packer</td>\n",
       "    </tr>\n",
       "    <tr>\n",
       "      <th>2017-02-14</th>\n",
       "      <td>Kala Kirwin</td>\n",
       "      <td>Home and Kitchen</td>\n",
       "      <td>General Depot Hand</td>\n",
       "    </tr>\n",
       "    <tr>\n",
       "      <th>2017-02-14</th>\n",
       "      <td>Ma Livers</td>\n",
       "      <td>Books</td>\n",
       "      <td>Forklift Operator</td>\n",
       "    </tr>\n",
       "  </tbody>\n",
       "</table>\n",
       "</div>"
      ],
      "text/plain": [
       "                      Name              Area            Position\n",
       "Hiring Date                                                     \n",
       "2017-02-14    Mia Slavin    Home and Kitchen              Packer\n",
       "2017-02-14   Kala Kirwin    Home and Kitchen  General Depot Hand\n",
       "2017-02-14     Ma Livers               Books   Forklift Operator"
      ]
     },
     "execution_count": 61,
     "metadata": {},
     "output_type": "execute_result"
    }
   ],
   "source": [
    "df.loc['2017-02-14', ['Name','Area','Position']]"
   ]
  },
  {
   "cell_type": "markdown",
   "metadata": {
    "id": "C_ebA0QmaeCX"
   },
   "source": [
    "### Which guys were hired between January 27 and March 13, 2017? Which Depot were they and when did they exit?"
   ]
  },
  {
   "cell_type": "code",
   "execution_count": 63,
   "metadata": {
    "colab": {
     "base_uri": "https://localhost:8080/",
     "height": 450
    },
    "id": "bSFl1Dt1YIx-",
    "outputId": "5f10124e-6f0c-44c5-d0f4-96f500e2b3dc"
   },
   "outputs": [
    {
     "data": {
      "text/html": [
       "<div>\n",
       "<style scoped>\n",
       "    .dataframe tbody tr th:only-of-type {\n",
       "        vertical-align: middle;\n",
       "    }\n",
       "\n",
       "    .dataframe tbody tr th {\n",
       "        vertical-align: top;\n",
       "    }\n",
       "\n",
       "    .dataframe thead th {\n",
       "        text-align: right;\n",
       "    }\n",
       "</style>\n",
       "<table border=\"1\" class=\"dataframe\">\n",
       "  <thead>\n",
       "    <tr style=\"text-align: right;\">\n",
       "      <th></th>\n",
       "      <th>Name</th>\n",
       "      <th>Depot</th>\n",
       "      <th>Exit Date</th>\n",
       "    </tr>\n",
       "    <tr>\n",
       "      <th>Hiring Date</th>\n",
       "      <th></th>\n",
       "      <th></th>\n",
       "      <th></th>\n",
       "    </tr>\n",
       "  </thead>\n",
       "  <tbody>\n",
       "    <tr>\n",
       "      <th>2017-01-27</th>\n",
       "      <td>Ghislaine Bodie</td>\n",
       "      <td>Ciudad de México</td>\n",
       "      <td>2017-01-29</td>\n",
       "    </tr>\n",
       "    <tr>\n",
       "      <th>2017-02-11</th>\n",
       "      <td>Dianne Mayweather</td>\n",
       "      <td>Monterrey</td>\n",
       "      <td>NaT</td>\n",
       "    </tr>\n",
       "    <tr>\n",
       "      <th>2017-03-01</th>\n",
       "      <td>Myron Gustavson</td>\n",
       "      <td>Ciudad de México</td>\n",
       "      <td>NaT</td>\n",
       "    </tr>\n",
       "    <tr>\n",
       "      <th>2017-02-25</th>\n",
       "      <td>Maryjane Condie</td>\n",
       "      <td>Guadalajara</td>\n",
       "      <td>NaT</td>\n",
       "    </tr>\n",
       "    <tr>\n",
       "      <th>2017-02-15</th>\n",
       "      <td>Mirtha Knabe</td>\n",
       "      <td>Ciudad de México</td>\n",
       "      <td>NaT</td>\n",
       "    </tr>\n",
       "  </tbody>\n",
       "</table>\n",
       "</div>"
      ],
      "text/plain": [
       "                            Name             Depot  Exit Date\n",
       "Hiring Date                                                  \n",
       "2017-01-27     Ghislaine Bodie    Ciudad de México 2017-01-29\n",
       "2017-02-11   Dianne Mayweather           Monterrey        NaT\n",
       "2017-03-01     Myron Gustavson    Ciudad de México        NaT\n",
       "2017-02-25     Maryjane Condie         Guadalajara        NaT\n",
       "2017-02-15        Mirtha Knabe    Ciudad de México        NaT"
      ]
     },
     "execution_count": 63,
     "metadata": {},
     "output_type": "execute_result"
    }
   ],
   "source": [
    "df.loc['2017-01-27' : '2017-03-13', ['Name','Depot','Exit Date']].head()"
   ]
  },
  {
   "cell_type": "code",
   "execution_count": null,
   "metadata": {},
   "outputs": [],
   "source": []
  }
 ],
 "metadata": {
  "colab": {
   "collapsed_sections": [],
   "provenance": [],
   "toc_visible": true
  },
  "kernelspec": {
   "display_name": "Python 3 (ipykernel)",
   "language": "python",
   "name": "python3"
  },
  "language_info": {
   "codemirror_mode": {
    "name": "ipython",
    "version": 3
   },
   "file_extension": ".py",
   "mimetype": "text/x-python",
   "name": "python",
   "nbconvert_exporter": "python",
   "pygments_lexer": "ipython3",
   "version": "3.7.9"
  }
 },
 "nbformat": 4,
 "nbformat_minor": 1
}
